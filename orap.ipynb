{
  "cells": [
    {
      "cell_type": "markdown",
      "metadata": {
        "id": "view-in-github",
        "colab_type": "text"
      },
      "source": [
        "<a href=\"https://colab.research.google.com/github/masoudinejad/dt_pruning/blob/main/orap.ipynb\" target=\"_parent\"><img src=\"https://colab.research.google.com/assets/colab-badge.svg\" alt=\"Open In Colab\"/></a>"
      ]
    },
    {
      "cell_type": "markdown",
      "metadata": {
        "id": "ZLof0RAkcYmy"
      },
      "source": [
        "# Optimized Resource Aware Pruning (ORAP)"
      ]
    },
    {
      "cell_type": "markdown",
      "metadata": {
        "id": "Cq1PkeKRcYm0"
      },
      "source": [
        "In this session you will see:\n",
        "- [1 - Resource demand calculation of decision trees](#1)\n",
        "- [2 - The general concept of global optimization](#2) \n",
        "- [3 - ORAP algorithm](#3)\n",
        "- [4 - ORAP Performance](#4)\n",
        "- [5 - ORAP vs CCP](#5)"
      ]
    },
    {
      "cell_type": "markdown",
      "metadata": {
        "id": "qne_yW2GcYm1"
      },
      "source": [
        "<a name=\"1\"></a>\n",
        "## 1 - Decision tree resource demand\n"
      ]
    },
    {
      "cell_type": "markdown",
      "metadata": {
        "id": "iFkJdqnQcYm1"
      },
      "source": [
        "Different type of resources"
      ]
    },
    {
      "cell_type": "markdown",
      "metadata": {
        "id": "aSLdzzk3cYm1"
      },
      "source": [
        "Formulation of the APD"
      ]
    },
    {
      "cell_type": "markdown",
      "metadata": {
        "id": "CVNJKiZ0cYm2"
      },
      "source": [
        "<a name=\"2\"></a>\n",
        "## 2 - Pruning as an optimization problem "
      ]
    },
    {
      "cell_type": "markdown",
      "metadata": {
        "id": "lTgPY4qacYm2"
      },
      "source": []
    },
    {
      "cell_type": "markdown",
      "metadata": {
        "id": "E1LsmE9OcYm2"
      },
      "source": [
        "<a name=\"3\"></a>\n",
        "## 3 - ORAP algorithm"
      ]
    },
    {
      "cell_type": "markdown",
      "metadata": {
        "id": "0sFK1OxfcYm2"
      },
      "source": [
        "Challenge of searching for the global optimal solution(s)."
      ]
    },
    {
      "cell_type": "markdown",
      "metadata": {
        "id": "5qnUWskjcYm2"
      },
      "source": [
        "Overall algorithm"
      ]
    },
    {
      "cell_type": "markdown",
      "metadata": {
        "id": "d4qQh_w9cYm3"
      },
      "source": [
        "<a name=\"4\"></a>\n",
        "## 4 - ORAP performance"
      ]
    },
    {
      "cell_type": "markdown",
      "metadata": {
        "id": "55CV4gm7cYm3"
      },
      "source": [
        "Changes in the accuracy according to the APD and number of nodes."
      ]
    },
    {
      "cell_type": "code",
      "execution_count": null,
      "metadata": {
        "id": "s-DNJ3DPcYm3"
      },
      "outputs": [],
      "source": []
    },
    {
      "cell_type": "markdown",
      "metadata": {
        "id": "fq1PZOyscYm3"
      },
      "source": [
        "<a name=\"5\"></a>\n",
        "## 5 - ORAP vs CCP"
      ]
    },
    {
      "cell_type": "markdown",
      "metadata": {
        "id": "LtNdyZZNcYm4"
      },
      "source": [
        "Comparison of ORAP and CCP according to the APD and number of nodes."
      ]
    }
  ],
  "metadata": {
    "kernelspec": {
      "display_name": "Python 3",
      "language": "python",
      "name": "python3"
    },
    "language_info": {
      "name": "python",
      "version": "3.10.9"
    },
    "orig_nbformat": 4,
    "colab": {
      "provenance": [],
      "include_colab_link": true
    }
  },
  "nbformat": 4,
  "nbformat_minor": 0
}