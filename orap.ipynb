{
  "cells": [
    {
      "cell_type": "markdown",
      "metadata": {
        "colab_type": "text",
        "id": "view-in-github"
      },
      "source": [
        "<a href=\"https://colab.research.google.com/github/masoudinejad/dt_pruning/blob/main/orap.ipynb\" target=\"_parent\"><img src=\"https://colab.research.google.com/assets/colab-badge.svg\" alt=\"Open In Colab\"/></a>"
      ]
    },
    {
      "cell_type": "markdown",
      "metadata": {
        "id": "ZLof0RAkcYmy"
      },
      "source": [
        "# Optimized Resource Aware Pruning (ORAP)"
      ]
    },
    {
      "cell_type": "markdown",
      "metadata": {
        "id": "Cq1PkeKRcYm0"
      },
      "source": [
        "In this session you will see:\n",
        "- [1 - Resource demand calculation of decision trees](#1)\n",
        "- [2 - The general concept of global optimization](#2) \n",
        "- [3 - ORAP algorithm](#3)\n",
        "- [4 - ORAP Performance](#4)\n",
        "- [5 - ORAP vs CCP](#5)"
      ]
    },
    {
      "cell_type": "markdown",
      "metadata": {
        "id": "qne_yW2GcYm1"
      },
      "source": [
        "<a name=\"1\"></a>\n",
        "## 1 - Decision tree resource demand\n"
      ]
    },
    {
      "cell_type": "markdown",
      "metadata": {
        "id": "iFkJdqnQcYm1"
      },
      "source": [
        "Different type of resources"
      ]
    },
    {
      "cell_type": "markdown",
      "metadata": {
        "id": "aSLdzzk3cYm1"
      },
      "source": [
        "Formulation of the APD"
      ]
    },
    {
      "cell_type": "markdown",
      "metadata": {
        "id": "CVNJKiZ0cYm2"
      },
      "source": [
        "<a name=\"2\"></a>\n",
        "## 2 - Pruning as an optimization problem "
      ]
    },
    {
      "attachments": {},
      "cell_type": "markdown",
      "metadata": {
        "id": "lTgPY4qacYm2"
      },
      "source": [
        "<a name=\"2.1\"></a>\n",
        "## 2.1 - Average Probabilistic Depth (APD)\n",
        "\n",
        "APD can be calculated from two different formulation. Initially it is explained using the naming by finding the depth of each leaf and probability of reaching that leaf from the relative number of samples in that leaf.\n",
        "\n",
        "Number of samples in a node $n$ is shown using $\\sigma(n)$, accordingly, $\\left|\\sigma\\right|$ shows the total number of samples or number of samples in the root node.\n",
        "Each leaf is shown using $l$ while set of all leaves is $\\Lambda$. Therefore, probability of reaching each leaf is defined as:\n",
        "$$\n",
        "\\mathbb{P}(l)=\\frac{\\sigma(l)}{\\left|\\sigma\\right|}\n",
        "$$\n",
        "\n",
        "Depth of a leaf is defined by the number of inner-node necessary to reach that leaf. To be noted that the leaf itself is not counted. This is due to the fact that APD is to formulated to quantize the resource needs for the inference and a leaf does not require a comparison.\n",
        "\n",
        "When the depth of a leaf $l$ is shown using $d_l$, APD of a decision tree $T$ can be formulated as:\n",
        "$$\n",
        "A(T) = \\sum\\limits_{\\forall l \\in \\Lambda}\\left(\\mathbb{P}(l) \\cdot d_l\\right)\n",
        "$$\n",
        "\n",
        "This formulation explains the calculation of the APD in a very general sense. Obviously it can be applied for any branch (subtree) of the main tree.\n",
        "\n",
        "From this formulation, it can be seen that the denominator of the probability is a constant and can be extracted from the summation. In addition, if we check each inner-node till reaching a leaf, depth change is adding only one. Therefore, calculation of the APD can be reformulated as:\n",
        "\n",
        "$$\n",
        "A(T) = \\frac{1}{\\left|\\sigma\\right|}\\sum\\limits_{\\forall n \\in T}(\\sigma(n))\n",
        "$$\n",
        "\n",
        "This simpler form of APD requires summing the number of samples in each inner-node within the tree (or branch). Since the number of total samples in a tree does not change during the pruning, it is easier to remove the denominator and use the absolute value for the APD evaluation."
      ]
    },
    {
      "attachments": {},
      "cell_type": "markdown",
      "metadata": {},
      "source": [
        "<a name=\"2.2\"></a>\n",
        "## 2.2 - Benefit of using APD\n",
        "\n",
        "While traditional tree pruning methods use number of nodes or leaves as a cost factor, here you can see the benefit of using APD to capture the effect of samples distribution in the tree and topology of the tree.\n",
        "In the below figures both network have similar number of nodes and leaves.\n",
        "\n",
        "<div> <img src=\"Figures/Topology1.png\" alt=\"A DT\" style=\"width: 200px;\"/></div> \n",
        "<div> <img src=\"Figures/Topology2.png\" alt=\"A DT\" style=\"width: 200px;\"/></div> \n",
        "\n",
        "Although both trees have 5 nodes and 6 leaves, their APD is different, First tree has a 2.7 APD, and the second one has an APD of 2.8."
      ]
    },
    {
      "cell_type": "markdown",
      "metadata": {
        "id": "E1LsmE9OcYm2"
      },
      "source": [
        "<a name=\"3\"></a>\n",
        "## 3 - ORAP algorithm"
      ]
    },
    {
      "cell_type": "markdown",
      "metadata": {
        "id": "0sFK1OxfcYm2"
      },
      "source": [
        "Challenge of searching for the global optimal solution(s)."
      ]
    },
    {
      "cell_type": "markdown",
      "metadata": {
        "id": "5qnUWskjcYm2"
      },
      "source": [
        "Overall algorithm"
      ]
    },
    {
      "cell_type": "markdown",
      "metadata": {
        "id": "d4qQh_w9cYm3"
      },
      "source": [
        "<a name=\"4\"></a>\n",
        "## 4 - ORAP performance"
      ]
    },
    {
      "cell_type": "markdown",
      "metadata": {
        "id": "55CV4gm7cYm3"
      },
      "source": [
        "Changes in the accuracy according to the APD and number of nodes."
      ]
    },
    {
      "cell_type": "code",
      "execution_count": null,
      "metadata": {
        "id": "s-DNJ3DPcYm3"
      },
      "outputs": [],
      "source": []
    },
    {
      "cell_type": "markdown",
      "metadata": {
        "id": "fq1PZOyscYm3"
      },
      "source": [
        "<a name=\"5\"></a>\n",
        "## 5 - ORAP vs CCP"
      ]
    },
    {
      "cell_type": "markdown",
      "metadata": {
        "id": "LtNdyZZNcYm4"
      },
      "source": [
        "Comparison of ORAP and CCP according to the APD and number of nodes."
      ]
    }
  ],
  "metadata": {
    "colab": {
      "include_colab_link": true,
      "provenance": []
    },
    "kernelspec": {
      "display_name": "Python 3",
      "language": "python",
      "name": "python3"
    },
    "language_info": {
      "codemirror_mode": {
        "name": "ipython",
        "version": 3
      },
      "file_extension": ".py",
      "mimetype": "text/x-python",
      "name": "python",
      "nbconvert_exporter": "python",
      "pygments_lexer": "ipython3",
      "version": "3.10.9"
    },
    "orig_nbformat": 4
  },
  "nbformat": 4,
  "nbformat_minor": 0
}
